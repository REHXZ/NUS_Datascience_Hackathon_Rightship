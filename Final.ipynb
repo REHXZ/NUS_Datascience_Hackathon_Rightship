{
 "cells": [
  {
   "cell_type": "code",
   "execution_count": 1,
   "metadata": {},
   "outputs": [],
   "source": [
    "import pandas as pd\n",
    "import matplotlib.pyplot as plt\n",
    "import seaborn as sns"
   ]
  },
  {
   "cell_type": "code",
   "execution_count": 3,
   "metadata": {},
   "outputs": [],
   "source": [
    "port_call = pd.read_csv('dataset\\port_call_dataset.csv')\n",
    "distance_dataset = pd.read_csv('dataset\\distance_dataset.csv')\n",
    "ais_dataset = pd.read_csv('dataset\\\\ais_dataset.csv')"
   ]
  },
  {
   "cell_type": "markdown",
   "metadata": {},
   "source": [
    "Step 1"
   ]
  },
  {
   "cell_type": "code",
   "execution_count": null,
   "metadata": {},
   "outputs": [],
   "source": []
  },
  {
   "cell_type": "markdown",
   "metadata": {},
   "source": [
    "Step 2"
   ]
  },
  {
   "cell_type": "code",
   "execution_count": 4,
   "metadata": {},
   "outputs": [],
   "source": [
    "# Initialize the vessel_group column with 'Unknown'\n",
    "ais_dataset['vessel_group'] = 'Unknown'\n",
    "\n",
    "# Map vessel types to vessel groups\n",
    "ais_dataset.loc[(ais_dataset['vessel_type'].isin(['Bulk Carrier', 'Ore Carrier', 'Wood Chips Carrier'])), 'vessel_group'] = \"Bulk Carrier\"\n",
    "ais_dataset.loc[(ais_dataset['vessel_type'].isin(['Container Ship (Fully Cellular)'])), 'vessel_group'] = \"Container Ship\"\n",
    "ais_dataset.loc[(ais_dataset['vessel_type'].isin(['General Cargo Ship', 'General Cargo Ship (with Ro-Ro facility)', 'Deck Cargo Ship'])), 'vessel_group'] = \"General Cargo\"\n",
    "ais_dataset.loc[(ais_dataset['vessel_type'].isin(['LNG Tanker'])), 'vessel_group'] = \"LNG tanker\"\n",
    "ais_dataset.loc[(ais_dataset['vessel_type'].isin(['LPG Tanker', 'LPG/Chemical Tanker', 'Combination Gas Tanker (LNG/LPG)'])), 'vessel_group'] = \"LPG / Anhydrous Ammonia tanker\"\n",
    "ais_dataset.loc[(ais_dataset['vessel_type'].isin(['Passenger / Cruise ship'])), 'vessel_group'] = \"Passenger / Cruise ship\"\n",
    "ais_dataset.loc[(ais_dataset['vessel_type'].isin(['Crude Oil Tanker', 'Crude/Oil Products Tanker', 'Products Tanker', 'Asphalt/Bitumen Tanker', 'Shuttle Tanker', 'Bunkering Tanker'])), 'vessel_group'] = \"Crude and Product tankers\"\n",
    "ais_dataset.loc[(ais_dataset['vessel_type'].isin(['Refrigerated Cargo Ship'])), 'vessel_group'] = \"Reefer ship\"\n",
    "ais_dataset.loc[(ais_dataset['vessel_type'].isin(['Vehicles Carrier', 'Ro-Ro Cargo Ship'])), 'vessel_group'] = \"Ro-ro Ship\"\n",
    "ais_dataset.loc[(ais_dataset['vessel_type'].isin(['Chemical/Products Tanker', 'Chemical Tanker', 'Molten Sulphur Tanker'])), 'vessel_group'] = \"Chemical Carrier\"\n",
    "\n",
    "ais_dataset = ais_dataset.loc[ais_dataset['vessel_group'] != 'Unknown']"
   ]
  },
  {
   "cell_type": "code",
   "execution_count": null,
   "metadata": {},
   "outputs": [],
   "source": []
  }
 ],
 "metadata": {
  "kernelspec": {
   "display_name": "base",
   "language": "python",
   "name": "python3"
  },
  "language_info": {
   "codemirror_mode": {
    "name": "ipython",
    "version": 3
   },
   "file_extension": ".py",
   "mimetype": "text/x-python",
   "name": "python",
   "nbconvert_exporter": "python",
   "pygments_lexer": "ipython3",
   "version": "3.9.12"
  }
 },
 "nbformat": 4,
 "nbformat_minor": 2
}
